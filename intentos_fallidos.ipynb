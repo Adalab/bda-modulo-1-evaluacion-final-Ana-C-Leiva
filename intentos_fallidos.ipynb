{
 "cells": [
  {
   "cell_type": "code",
   "execution_count": null,
   "metadata": {},
   "outputs": [],
   "source": [
    "def realizar_compra():\n",
    "    seguir_comprando = 'si'\n",
    "    carrito = []\n",
    "    print(inventario)\n",
    "    while seguir_comprando == 'si':\n",
    "        articulo = input('Qué quisieras comprar? Ingrese un articulo de la lista del inventario').lower()\n",
    "        try:\n",
    "            for producto in inventario:\n",
    "                if producto['nombre'] == articulo:\n",
    "                    unidades = int(input('Cuantos items de este articulo desea comprar. Elija una cantidad menor a la del stock'))\n",
    "                    if producto['cantidad']>= unidades:\n",
    "                        carrito_info = {\n",
    "                            'articulo': articulo,\n",
    "                            'unidades': unidades,\n",
    "                            'precio unitario': producto['precio'],\n",
    "                            'costo': unidades*producto['precio']\n",
    "                            }\n",
    "                        carrito.append(carrito_info)\n",
    "                        producto['cantidad'] -= unidades\n",
    "                        break\n",
    "                    elif producto['cantidad']< unidades:\n",
    "                        print(f'No hay suficiente stock, elija una cantidad menor o igual a {producto['cantidad']}')\n",
    "        except:\n",
    "            print(f'El artículo {articulo} no se encuentra en el inventario.') # no se está imprimiendo\n",
    "\n",
    "        seguir_comprando = input('Desea seguir comprando? Si o no?').lower()    \n",
    "    \n",
    "    print(f'Este es su carrito de compras final {carrito}')\n",
    "    costo_total = 0.0\n",
    "    for articulo in carrito:\n",
    "        costo_total += articulo['costo']\n",
    "        \n",
    "    return(f'El costo total de su compra es de {costo_total} euros')"
   ]
  },
  {
   "cell_type": "code",
   "execution_count": null,
   "metadata": {},
   "outputs": [],
   "source": [
    "# Funcion 9\n",
    "\n",
    "def agregar_cliente(nombre, email):\n",
    "    agregado = False\n",
    "    for cliente in clientes:\n",
    "        if cliente == nombre.lower():\n",
    "            print('El/La cliente ya existe, se actualizará la información')\n",
    "            cliente['email'] = email\n",
    "            agregado = True\n",
    "            break\n",
    "    \n",
    "        if not agregado:\n",
    "            clientes[nombre.lower()] = {\n",
    "                'email': email,\n",
    "                'compras': [] \n",
    "                }\n",
    "            print(f'El/La cliente {nombre} fue agregado/a con exito')\n",
    "\n"
   ]
  }
 ],
 "metadata": {
  "language_info": {
   "name": "python"
  }
 },
 "nbformat": 4,
 "nbformat_minor": 2
}
