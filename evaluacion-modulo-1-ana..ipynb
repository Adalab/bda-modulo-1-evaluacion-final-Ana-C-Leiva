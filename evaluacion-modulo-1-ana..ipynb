{
 "cells": [
  {
   "cell_type": "markdown",
   "metadata": {},
   "source": [
    "# Evaluación Módulo 1"
   ]
  },
  {
   "cell_type": "markdown",
   "metadata": {},
   "source": [
    "### Tres estructuras principales\n",
    "\n",
    "1) `inventario` (lista de diccionarios): Una estructura para almacenar los\n",
    "productos en el inventario. Cada producto debe ser representado como un\n",
    "diccionario con las siguientes claves: `'nombre'`, `'precio'`, y\n",
    "`'cantidad'`. Al principio deberá ser una lista vacía. Ejemplo de como\n",
    "debería ser:\n",
    "```python\n",
    "[{'nombre': 'Camisa', 'precio': 20, 'cantidad': 40},\n",
    "{'nombre': 'Pantalón', 'precio': 30, 'cantidad': 30}]\n",
    "```\n",
    "\n",
    "2) `clientes` (diccionario): Una estructura para llevar un registro de los\n",
    "clientes de la tienda. Cada cliente debe ser representado como un\n",
    "diccionario con las siguientes claves: `'nombre'` y `'email'`. Al inicio\n",
    "deberá ser un diccionario vacío. Además, cada cliente debe tener un\n",
    "historial de compras. Deberá parecerse a:\n",
    "```python\n",
    "{'Cliente1': {'email': 'cliente1@email.com', 'compras': []},\n",
    "'Cliente2': {'email': 'cliente2@email.com', 'compras': []}}\n",
    "```\n",
    "--> entonces será un duccionario de diccionarios con una lista asociada a la clave compras. \n",
    "\n",
    "3. `ventas_totales` (float): Una variable para llevar un registro de las\n",
    "ventas totales de la tienda. Inicializalo con valor 0."
   ]
  },
  {
   "cell_type": "code",
   "execution_count": 2,
   "metadata": {},
   "outputs": [],
   "source": [
    "# Creo las tres estructuras principales\n",
    "inventario = []\n",
    "clientes = {}\n",
    "ventas_totales = 0.0"
   ]
  },
  {
   "cell_type": "markdown",
   "metadata": {},
   "source": [
    "## (1) Función agregar producto"
   ]
  },
  {
   "cell_type": "code",
   "execution_count": null,
   "metadata": {},
   "outputs": [],
   "source": [
    "# `agregar_producto(nombre, precio, cantidad)`: Esta función agrega un\n",
    "# producto al inventario o actualiza su cantidad si ya existe. Debe recibir el\n",
    "# nombre, precio y cantidad del producto como parámetros.\n",
    "\n",
    "# Entiendo que ninguno de los parámatros puede tener defeault o puede faltar. \n",
    "\n",
    "# - Itera a través del inventario y compara los nombres de los productos con el nombre proporcionado. --> (está pidiendo que use un for, pero no me salió! copilot sugirió crear variable booleana)\n",
    "# - Si el producto ya existe, actualiza la cantidad. --> if ya existe actualizar información (entiendo que actualizar cantidad es sumarla a la ya existente)\n",
    "# - Si no existe, agrega un nuevo producto al inventario. --> if no existe agregar el producto con toda la información"
   ]
  },
  {
   "cell_type": "code",
   "execution_count": 3,
   "metadata": {},
   "outputs": [],
   "source": [
    "def agregar_producto(nombre, precio, cantidad):\n",
    "  producto_actualizado = False\n",
    "  for producto in inventario:\n",
    "    if producto['nombre'] == nombre:\n",
    "      producto['precio'] = precio\n",
    "      producto['cantidad'] += cantidad\n",
    "      print(f'La información del producto {nombre} fue actualizada')\n",
    "      producto_actualizado = True\n",
    "      break\n",
    "\n",
    "  if not producto_actualizado:\n",
    "      nuevo_producto = {\n",
    "        'nombre': nombre,\n",
    "        'precio': precio,\n",
    "        'cantidad': cantidad\n",
    "        }\n",
    "      inventario.append(nuevo_producto)\n",
    "      print( f'El producto {nombre} fue agregado a la lista')\n",
    "  else:\n",
    "      return f'Ha ocurrido un error al intentar agregar el producto {nombre}. Intente nuevamente'"
   ]
  },
  {
   "cell_type": "code",
   "execution_count": 4,
   "metadata": {},
   "outputs": [
    {
     "name": "stdout",
     "output_type": "stream",
     "text": [
      "El producto zapatos fue agregado a la lista\n",
      "El producto camisa fue agregado a la lista\n",
      "El producto pantalon fue agregado a la lista\n"
     ]
    },
    {
     "data": {
      "text/plain": [
       "[{'nombre': 'zapatos', 'precio': 45, 'cantidad': 500},\n",
       " {'nombre': 'camisa', 'precio': 25, 'cantidad': 300},\n",
       " {'nombre': 'pantalon', 'precio': 40, 'cantidad': 500}]"
      ]
     },
     "execution_count": 4,
     "metadata": {},
     "output_type": "execute_result"
    }
   ],
   "source": [
    "# Prueba\n",
    "agregar_producto('zapatos', 45, 500)\n",
    "agregar_producto('camisa', 25, 300)\n",
    "agregar_producto('pantalon', 40, 500)\n",
    "inventario"
   ]
  },
  {
   "cell_type": "markdown",
   "metadata": {},
   "source": [
    "## (2) Función ver inventario"
   ]
  },
  {
   "cell_type": "code",
   "execution_count": null,
   "metadata": {},
   "outputs": [],
   "source": [
    "# `ver_inventario()`: Muestra el inventario de productos con sus detalles.\n",
    "# Utiliza un bucle `for` para recorrer el inventario.\n",
    "\n",
    "# - Imprime los detalles (nombre, precio, cantidad) de cada producto.\n",
    "\n",
    "# - Debería verse:\n",
    "\n",
    "    # Nombre: Camisa, Precio: $20, Cantidad: 50\n",
    "    # Nombre: Pantalón, Precio: $30, Cantidad: 30\n",
    "    # Nombre: Zapatos, Precio: $50, Cantidad: 40\n",
    "    # Nombre: Camisa, Precio: $20, Cantidad: 50"
   ]
  },
  {
   "cell_type": "code",
   "execution_count": 5,
   "metadata": {},
   "outputs": [],
   "source": [
    "def ver_inventario():\n",
    "    for producto in inventario:\n",
    "        nombre = producto['nombre']\n",
    "        precio = producto['precio']\n",
    "        cantidad = producto['cantidad']\n",
    "        print(f'Nombre: {nombre}, Precio: ${precio}, Cantidad: {cantidad}')\n",
    "    return"
   ]
  },
  {
   "cell_type": "code",
   "execution_count": 6,
   "metadata": {},
   "outputs": [
    {
     "name": "stdout",
     "output_type": "stream",
     "text": [
      "Nombre: zapatos, Precio: $45, Cantidad: 500\n",
      "Nombre: camisa, Precio: $25, Cantidad: 300\n",
      "Nombre: pantalon, Precio: $40, Cantidad: 500\n"
     ]
    }
   ],
   "source": [
    "# prueba\n",
    "ver_inventario()"
   ]
  },
  {
   "cell_type": "markdown",
   "metadata": {},
   "source": [
    "## (3) Función buscar producto"
   ]
  },
  {
   "cell_type": "code",
   "execution_count": null,
   "metadata": {},
   "outputs": [],
   "source": [
    "# `buscar_producto(nombre)`: Busca un producto en el inventario por nombre\n",
    "# y muestra sus detalles si se encuentra. Debe recibir el nombre del producto\n",
    "# como parámetro.\n",
    "\n",
    "    # - Utiliza un bucle `for` para recorrer el inventario.\n",
    "    #- Compara los nombres de los productos con el nombre proporcionado.\n",
    "    #- Si se encuentra el producto, imprime sus detalles.\n",
    "    #- Debe mostrar:\n",
    "        #Nombre: Camisa, Precio: $20, Cantidad: 40"
   ]
  },
  {
   "cell_type": "code",
   "execution_count": 7,
   "metadata": {},
   "outputs": [],
   "source": [
    "def buscar_producto(nombre):\n",
    "    encontrado = False\n",
    "    for producto in inventario:\n",
    "        if producto['nombre'].lower() == nombre.lower():\n",
    "            precio = producto['precio']\n",
    "            cantidad = producto['cantidad']\n",
    "            print(f'Nombre: {nombre.lower()}, Precio: ${precio}, Cantidad: {cantidad}')\n",
    "            encontrado = True\n",
    "    if not encontrado:\n",
    "            return f'El producto {nombre} no fue encontrado'\n"
   ]
  },
  {
   "cell_type": "code",
   "execution_count": 8,
   "metadata": {},
   "outputs": [
    {
     "name": "stdout",
     "output_type": "stream",
     "text": [
      "Nombre: camisa, Precio: $25, Cantidad: 300\n"
     ]
    }
   ],
   "source": [
    "# Prueba\n",
    "buscar_producto('camisa')"
   ]
  },
  {
   "cell_type": "code",
   "execution_count": 9,
   "metadata": {},
   "outputs": [
    {
     "data": {
      "text/plain": [
       "'El producto pijama no fue encontrado'"
      ]
     },
     "execution_count": 9,
     "metadata": {},
     "output_type": "execute_result"
    }
   ],
   "source": [
    "# Prueba \n",
    "buscar_producto('pijama')"
   ]
  },
  {
   "cell_type": "markdown",
   "metadata": {},
   "source": [
    "## (4) Función actualizar stock"
   ]
  },
  {
   "cell_type": "code",
   "execution_count": null,
   "metadata": {},
   "outputs": [],
   "source": [
    "# `actualizar_stock(nombre, cantidad)`: Actualiza el stock de un producto\n",
    "# en el inventario. Debe recibir el nombre del producto y la cantidad a\n",
    "# agregar o quitar como parámetros.\n",
    "    # - Utiliza un bucle `for` para recorrer el inventario.\n",
    "    # - Busca el producto por nombre.\n",
    "    # - Actualiza la cantidad según la entrada del usuario. --> con actualizar entiendo a que se \n",
    "        # refiere a que se realizó un conteo y hay una diferencia en el inventario\n",
    "    # - Si el producto no esta en el inventario muestra un mensaje indicándolo."
   ]
  },
  {
   "cell_type": "code",
   "execution_count": 10,
   "metadata": {},
   "outputs": [],
   "source": [
    "def actualizar_stock(nombre, cantidad):\n",
    "    actualizado = False\n",
    "    for producto in inventario:\n",
    "        if producto['nombre'].lower() == nombre.lower():\n",
    "            producto['cantidad'] = cantidad\n",
    "            print(f'El producto {nombre.lower()} se ha actualizado')\n",
    "            actualizado = True\n",
    "            \n",
    "    if not actualizado:\n",
    "        print(f'El producto {nombre.lower()} no se encuentra en el inventario. Si desea agregar un nuevo producto dirijase a la función agregar_producto')\n",
    "        return \n"
   ]
  },
  {
   "cell_type": "code",
   "execution_count": 11,
   "metadata": {},
   "outputs": [
    {
     "name": "stdout",
     "output_type": "stream",
     "text": [
      "El producto camisa se ha actualizado\n"
     ]
    },
    {
     "data": {
      "text/plain": [
       "[{'nombre': 'zapatos', 'precio': 45, 'cantidad': 500},\n",
       " {'nombre': 'camisa', 'precio': 25, 'cantidad': 350},\n",
       " {'nombre': 'pantalon', 'precio': 40, 'cantidad': 500}]"
      ]
     },
     "execution_count": 11,
     "metadata": {},
     "output_type": "execute_result"
    }
   ],
   "source": [
    "# Prueba\n",
    "actualizar_stock('CAmisa', 350)\n",
    "inventario"
   ]
  },
  {
   "cell_type": "code",
   "execution_count": 12,
   "metadata": {},
   "outputs": [
    {
     "name": "stdout",
     "output_type": "stream",
     "text": [
      "El producto pijama no se encuentra en el inventario. Si desea agregar un nuevo producto dirijase a la función agregar_producto\n"
     ]
    }
   ],
   "source": [
    "# prueba\n",
    "actualizar_stock('pijama', 100)"
   ]
  },
  {
   "cell_type": "markdown",
   "metadata": {},
   "source": [
    "## (5) Función eliminar producto"
   ]
  },
  {
   "cell_type": "code",
   "execution_count": null,
   "metadata": {},
   "outputs": [],
   "source": [
    "# `eliminar_producto(nombre)`: Elimina un producto del inventario por nombre. Debe recibir el nombre del producto como parámetro.\n",
    "\n",
    "    # - Utiliza un bucle `for` para recorrer el inventario.\n",
    "    # - Busca el producto por nombre.\n",
    "    # - Elimina el producto del inventario si existe.\n",
    "    # - Si el producto no esta en el inventario muestra un mensaje indicándolo."
   ]
  },
  {
   "cell_type": "code",
   "execution_count": 13,
   "metadata": {},
   "outputs": [],
   "source": [
    "def eliminar_producto(nombre):\n",
    "    for producto in inventario:\n",
    "        if producto['nombre'] == nombre:\n",
    "            inventario.remove(producto)\n",
    "            print(f'El producto {nombre.lower()} se ha eliminado de su inventario')\n",
    "            return\n",
    "    print(f'El producto {nombre.lower()} no fue encontrado en su lista de inventario')  # el problema se solucionó sacando el ultimo mensaje del bucle if, pero no me queda claro por qué"
   ]
  },
  {
   "cell_type": "code",
   "execution_count": 14,
   "metadata": {},
   "outputs": [
    {
     "name": "stdout",
     "output_type": "stream",
     "text": [
      "El producto pantalon se ha eliminado de su inventario\n"
     ]
    },
    {
     "data": {
      "text/plain": [
       "[{'nombre': 'zapatos', 'precio': 45, 'cantidad': 500},\n",
       " {'nombre': 'camisa', 'precio': 25, 'cantidad': 350}]"
      ]
     },
     "execution_count": 14,
     "metadata": {},
     "output_type": "execute_result"
    }
   ],
   "source": [
    "# Prueba\n",
    "eliminar_producto('pantalon')\n",
    "inventario"
   ]
  },
  {
   "cell_type": "code",
   "execution_count": 15,
   "metadata": {},
   "outputs": [
    {
     "name": "stdout",
     "output_type": "stream",
     "text": [
      "El producto gorro no fue encontrado en su lista de inventario\n"
     ]
    }
   ],
   "source": [
    "# Prueba\n",
    "eliminar_producto('gorro')"
   ]
  },
  {
   "cell_type": "markdown",
   "metadata": {},
   "source": [
    "## (6) Función calcular valor de inventario"
   ]
  },
  {
   "cell_type": "code",
   "execution_count": null,
   "metadata": {},
   "outputs": [],
   "source": [
    "# `calcular_valor_inventario()`: Calcula y muestra el valor total del inventario.\n",
    "    # - Utiliza un bucle for para calcular el valor total del inventario.\n",
    "    # - Itera a través del inventario y suma el valor de cada producto\n",
    "        # (precio x cantidad). Es decir, calcula el valor total del inventario.\n",
    "\n",
    "#Ejemplo:\n",
    "    # si tenemos 5 camisas que valen 5 euros\n",
    "    # y 10 calcetines que valen 1 euro\n",
    "    # este método te tiene que devolver: 35 euros\n",
    "        # valor_camisas = 5 * 5\n",
    "        # valor_calcetines = 10 * 1\n",
    "        # valor_camisas + valor_calcetines = 35"
   ]
  },
  {
   "cell_type": "code",
   "execution_count": 16,
   "metadata": {},
   "outputs": [],
   "source": [
    "def calcular_valor_inventario():\n",
    "    valor_inventario = 0\n",
    "    for producto in inventario:\n",
    "        valor_producto = producto['cantidad']*producto['precio']\n",
    "        valor_inventario += valor_producto\n",
    "    print(f'El valor total del inventario son {valor_inventario} euros')\n",
    "    "
   ]
  },
  {
   "cell_type": "code",
   "execution_count": 17,
   "metadata": {},
   "outputs": [
    {
     "name": "stdout",
     "output_type": "stream",
     "text": [
      "El valor total del inventario son 31250 euros\n"
     ]
    }
   ],
   "source": [
    "# Prueba\n",
    "calcular_valor_inventario()"
   ]
  },
  {
   "cell_type": "markdown",
   "metadata": {},
   "source": [
    "## (7) Función realizar compra"
   ]
  },
  {
   "cell_type": "code",
   "execution_count": null,
   "metadata": {},
   "outputs": [],
   "source": [
    "# `realizar_compra()`: Permite a un cliente realizar una compra seleccionando productos del inventario.\n",
    "# Debe interactuar con el cliente --> utilizar un input()\n",
    "    # para seleccionar productos y calcular el costo total de la compra.\n",
    "\n",
    "    # - Utiliza un bucle `while` para permitir al cliente realizar múltiples compras.\n",
    "    # - Muestra el inventario y solicita al cliente ingresar el nombre del producto que desea comprar.\n",
    "    # - Registra los productos seleccionados en un carrito y actualiza el inventario.\n",
    "    # - Calcula el costo total de la compra."
   ]
  },
  {
   "cell_type": "code",
   "execution_count": null,
   "metadata": {},
   "outputs": [],
   "source": [
    "# Mi pseudo-codigo\n",
    "\n",
    "#def realizar_compra():\n",
    "    #while # cliente siga diciendo que quiere comprar:\n",
    "        # mostramos inventario \n",
    "        # le pedimos que elija un articulo (por nombre) [comprobar que existe] y si existe pedir la cantidad [comprobar que haya suficiente]\n",
    "            # si no hay suficiente preguntar si quiere continuar\n",
    "            # si quiere continuar especificar que la cantidad tiene que ser menor o igual al {stock}  \n",
    "        # agregar a su carrito de compra\n",
    "        # actualizar inventario\n",
    "    # calcular costo total de la compra\n",
    "    # mostrar carrito de compra al final"
   ]
  },
  {
   "cell_type": "code",
   "execution_count": 18,
   "metadata": {},
   "outputs": [],
   "source": [
    "\n",
    "def realizar_compra():\n",
    "    seguir_comprando = 'si'\n",
    "    carrito = []\n",
    "    print(inventario)\n",
    "    while seguir_comprando == 'si':\n",
    "        articulo = input('Qué quisieras comprar? Ingrese un articulo de la lista del inventario').lower()\n",
    "        encontrado = False # sugerencia de copilot, igual que en el ejercicio 1, implica que cada vez que se encuentra el articulo convierte la variable encontrado a true y sale al final del loop de los ifs\n",
    "        for producto in inventario:\n",
    "            if producto['nombre'] == articulo:\n",
    "                encontrado = True\n",
    "                unidades = int(input('Cuantos items de este articulo desea comprar. Elija una cantidad menor a la del stock'))\n",
    "                if producto['cantidad'] >= unidades:\n",
    "                    carrito_info = {\n",
    "                        'articulo': articulo,\n",
    "                        'unidades': unidades,\n",
    "                        'precio unitario': producto['precio'],\n",
    "                        'costo': unidades * producto['precio']\n",
    "                    }\n",
    "                    carrito.append(carrito_info)\n",
    "                    producto['cantidad'] -= unidades\n",
    "                    break\n",
    "                elif producto['cantidad'] < unidades:\n",
    "                    print(f'No hay suficiente stock, elija una cantidad menor o igual a {producto[\"cantidad\"]}')\n",
    "        if not encontrado:\n",
    "            print(f'El artículo {articulo} no se encuentra en el inventario.')\n",
    "\n",
    "        seguir_comprando = input('Desea seguir comprando? Si o no?').lower()\n",
    "\n",
    "    print(f'Este es su carrito de compras final {carrito}')\n",
    "    costo_total = 0.0\n",
    "    for articulo in carrito:\n",
    "        costo_total += articulo['costo']\n",
    "    print(f'El costo total de su compra es de {costo_total} euros') # no me imprimía con return, solo con print, pero no me queda claro por qué\n",
    "    return"
   ]
  },
  {
   "cell_type": "code",
   "execution_count": 19,
   "metadata": {},
   "outputs": [
    {
     "name": "stdout",
     "output_type": "stream",
     "text": [
      "[{'nombre': 'zapatos', 'precio': 45, 'cantidad': 500}, {'nombre': 'camisa', 'precio': 25, 'cantidad': 350}]\n",
      "Este es su carrito de compras final [{'articulo': 'camisa', 'unidades': 5, 'precio unitario': 25, 'costo': 125}]\n",
      "El costo total de su compra es de 125.0 euros\n"
     ]
    }
   ],
   "source": [
    "# prueba\n",
    "realizar_compra()"
   ]
  },
  {
   "cell_type": "markdown",
   "metadata": {},
   "source": [
    "# BONUS: ejercicios voluntarios"
   ]
  },
  {
   "cell_type": "markdown",
   "metadata": {},
   "source": [
    "## (8) Función procesar pago"
   ]
  },
  {
   "cell_type": "code",
   "execution_count": null,
   "metadata": {},
   "outputs": [],
   "source": [
    "# `procesar_pago()`: \n",
    "    # Procesa el pago de una compra, \n",
    "    # calcula el cambio y\n",
    "    # muestra un mensaje de confirmación.\n",
    "\n",
    "    # - Utiliza un bloque `try...except` para manejar excepciones.\n",
    "    # - Solicita al cliente ingresar la cantidad total y la cantidad de pago usando un input \n",
    "        # --> cantidad total sera el costo total? Esto es lo que está calculdao en ejericio (7)\n",
    "    # - Calcula el cambio y muestra un mensaje de pago exitoso o un error en caso de monto insuficiente."
   ]
  },
  {
   "cell_type": "code",
   "execution_count": 20,
   "metadata": {},
   "outputs": [],
   "source": [
    "def procesar_pago():\n",
    "    total = input('Ingrese el coto total a pagar por su compra')\n",
    "    monto = input('Ingrese el monto con el que desea pagar al contado')\n",
    "    try:\n",
    "        total = float(total)\n",
    "        monto = float(monto)\n",
    "        cambio = monto - total\n",
    "        if  cambio >= 0:\n",
    "            return(f'Pago existoso. Su cambio es de {cambio} euros')\n",
    "        if cambio < 0:\n",
    "            return(f'Error. La transacción no es valida porque el monto al contado es menor al total de la compra')\n",
    "\n",
    "    except:\n",
    "        print(f'Ha habido algún tipo de error con los montos ingresados vuelva a relizar el pago')"
   ]
  },
  {
   "cell_type": "code",
   "execution_count": 21,
   "metadata": {},
   "outputs": [
    {
     "data": {
      "text/plain": [
       "'Pago existoso. Su cambio es de 100.0 euros'"
      ]
     },
     "execution_count": 21,
     "metadata": {},
     "output_type": "execute_result"
    }
   ],
   "source": [
    "# Prueba\n",
    "procesar_pago()"
   ]
  },
  {
   "cell_type": "markdown",
   "metadata": {},
   "source": [
    "## (9) Función agregar cliente"
   ]
  },
  {
   "cell_type": "code",
   "execution_count": null,
   "metadata": {},
   "outputs": [],
   "source": [
    "# `agregar_cliente(nombre, email)`: Agrega un nuevo cliente al registro de clientes. \n",
    "# Debe recibir el nombre y el correo electrónico del cliente como parámetros.\n",
    "    # - Agrega un cliente al diccionario de clientes con su nombre y correo electrónico. --> según la estructura propuesta al inicio la key (que identifica de forma unica a clientes, sera el nombre)\n",
    "\n",
    "# Estructura del dicionario de clientes:\n",
    "    # {'Cliente1': {'email': 'cliente1@email.com', 'compras': []},\n",
    "    #'Cliente2': {'email': 'cliente2@email.com', 'compras': []}}"
   ]
  },
  {
   "cell_type": "code",
   "execution_count": 22,
   "metadata": {},
   "outputs": [],
   "source": [
    "def agregar_cliente(nombre, email):\n",
    "    nombre = nombre.lower()\n",
    "    if nombre in clientes.keys():\n",
    "        print('El/La cliente ya existe, se actualizará la información')\n",
    "        clientes[nombre]['email'] = email\n",
    "        return\n",
    "    \n",
    "    else:\n",
    "        clientes[nombre] = {\n",
    "                'email': email,\n",
    "                'compras': []\n",
    "            }\n",
    "        print(f'El/La cliente {nombre} fue agregado/a con exito')\n",
    "\n"
   ]
  },
  {
   "cell_type": "code",
   "execution_count": 23,
   "metadata": {},
   "outputs": [
    {
     "name": "stdout",
     "output_type": "stream",
     "text": [
      "El/La cliente ana fue agregado/a con exito\n",
      "El/La cliente caro fue agregado/a con exito\n",
      "El/La cliente almu fue agregado/a con exito\n"
     ]
    },
    {
     "data": {
      "text/plain": [
       "{'ana': {'email': 'ana@gmail.com', 'compras': []},\n",
       " 'caro': {'email': 'caro@gmail.com', 'compras': []},\n",
       " 'almu': {'email': 'almu@gmail.com', 'compras': []}}"
      ]
     },
     "execution_count": 23,
     "metadata": {},
     "output_type": "execute_result"
    }
   ],
   "source": [
    "agregar_cliente('Ana', 'ana@gmail.com')\n",
    "agregar_cliente('Caro', 'caro@gmail.com')\n",
    "agregar_cliente('Almu', 'almu@gmail.com')\n",
    "clientes\n"
   ]
  },
  {
   "cell_type": "markdown",
   "metadata": {},
   "source": [
    "## (10) Función ver clientes"
   ]
  },
  {
   "cell_type": "code",
   "execution_count": null,
   "metadata": {},
   "outputs": [],
   "source": [
    "# `ver_clientes()`: Muestra la lista de clientes registrados con sus nombres y correos electrónicos.\n",
    "    \n",
    "    # - Utiliza un bucle `for` para recorrer la base de datos de clientes.\n",
    "    # - Imprime los detalles de cada cliente (nombre y correo electrónico)."
   ]
  },
  {
   "cell_type": "code",
   "execution_count": 24,
   "metadata": {},
   "outputs": [],
   "source": [
    "def ver_clientes():\n",
    "    info_clientes = []\n",
    "    for cliente in clientes:\n",
    "        nombre = cliente\n",
    "        email = clientes[cliente]['email']\n",
    "        cliente_info = {\n",
    "            'nombre': nombre,\n",
    "            'email': email\n",
    "        }\n",
    "        info_clientes.append(cliente_info)\n",
    "    return(info_clientes)\n"
   ]
  },
  {
   "cell_type": "code",
   "execution_count": 25,
   "metadata": {},
   "outputs": [
    {
     "data": {
      "text/plain": [
       "[{'nombre': 'ana', 'email': 'ana@gmail.com'},\n",
       " {'nombre': 'caro', 'email': 'caro@gmail.com'},\n",
       " {'nombre': 'almu', 'email': 'almu@gmail.com'}]"
      ]
     },
     "execution_count": 25,
     "metadata": {},
     "output_type": "execute_result"
    }
   ],
   "source": [
    "# Prueba\n",
    "ver_clientes()"
   ]
  },
  {
   "cell_type": "markdown",
   "metadata": {},
   "source": [
    "## (11) Función registrar compra"
   ]
  },
  {
   "cell_type": "code",
   "execution_count": null,
   "metadata": {},
   "outputs": [],
   "source": [
    "# `registrar_compra(nombre_cliente, carrito)`: \n",
    "    # Registra una compra para un cliente, \n",
    "    # actualiza las ventas totales y \n",
    "    # agrega la compra al historial del cliente.\n",
    "# Debe recibir el nombre del cliente y el carrito de compras como parámetros.\n",
    "\n",
    "    # - Busca al cliente en el diccionario de clientes.\n",
    "    # - Si el cliente no esta en el diccionario de clientes, muestra que no se puede realizar la acción \n",
    "        # por que el cliente no está en el diccionario.\n",
    "    # - Calcula el total de la compra y registra la compra, incluyendo los productos y el total.\n",
    "\n",
    "#carrito_cliente1 = {\"Camisa\": {\"precio\": 20, \"cantidad\": 3}}\n",
    "#tienda.registrar_compra(\"Cliente1\", carrito_cliente1)"
   ]
  },
  {
   "cell_type": "code",
   "execution_count": 125,
   "metadata": {},
   "outputs": [],
   "source": [
    "def registrar_compra(nombre_cliente, carrito):\n",
    "\n",
    "    nombre_cliente = nombre_cliente.lower()\n",
    "    compra_hecha = False\n",
    "    claves = list(carrito.keys())\n",
    "    estas_ventas = 0.0\n",
    "    global ventas_totales\n",
    "\n",
    "    if nombre_cliente in clientes:\n",
    "        for nombre_articulo in claves: \n",
    "            for producto in inventario:\n",
    "                if nombre_articulo.lower() == producto['nombre']:\n",
    "                    articulo_encontrado = True\n",
    "                    cantidad = carrito[nombre_articulo]['cantidad']\n",
    "                    precio = carrito[nombre_articulo]['precio']\n",
    "                    if producto['cantidad'] >= cantidad:\n",
    "                        print(f'La compra de {nombre_articulo} se puede realizar')\n",
    "                        producto['cantidad'] -= cantidad\n",
    "                        clientes[nombre_cliente]['compras'].append({\n",
    "                            'nombre': nombre_articulo, \n",
    "                            'cantidad': cantidad,\n",
    "                            'precio': precio})\n",
    "                        estas_ventas += cantidad*precio\n",
    "                        ventas_totales += estas_ventas\n",
    "                    else:\n",
    "                        print(f'No hay suficiente stock de {nombre_articulo}')\n",
    "                    break\n",
    "            if not articulo_encontrado:\n",
    "                print(f'El artículo {nombre_articulo} no se encuentra en el inventario')\n",
    "        compra_hecha = True\n",
    "    \n",
    "    if not compra_hecha:\n",
    "        print(f'La compra no se puede realizar, el/la cliente {nombre_cliente} no se ha encontrado')\n",
    "    \n"
   ]
  },
  {
   "cell_type": "code",
   "execution_count": 129,
   "metadata": {},
   "outputs": [
    {
     "name": "stdout",
     "output_type": "stream",
     "text": [
      "La compra de Camisa se puede realizar\n",
      "La compra de zapatos se puede realizar\n"
     ]
    },
    {
     "data": {
      "text/plain": [
       "{'ana': {'email': 'ana@gmail.com',\n",
       "  'compras': [{'nombre': 'zapatos', 'cantidad': 3, 'precio': 20},\n",
       "   {'nombre': 'zapatos', 'cantidad': 3, 'precio': 20},\n",
       "   {'nombre': 'zapatos', 'cantidad': 3, 'precio': 20},\n",
       "   {'nombre': 'Camisa', 'cantidad': 3, 'precio': 20},\n",
       "   {'nombre': 'zapatos', 'cantidad': 3, 'precio': 20},\n",
       "   {'nombre': 'Camisa', 'cantidad': 3, 'precio': 20},\n",
       "   {'nombre': 'zapatos', 'cantidad': 3, 'precio': 20},\n",
       "   {'nombre': 'Camisa', 'cantidad': 3, 'precio': 20},\n",
       "   {'nombre': 'zapatos', 'cantidad': 3, 'precio': 20}]},\n",
       " 'caro': {'email': 'caro@gmail.com',\n",
       "  'compras': [{'nombre': 'Camisa', 'cantidad': 3, 'precio': 20},\n",
       "   {'nombre': 'zapatos', 'cantidad': 3, 'precio': 20},\n",
       "   {'nombre': 'zapatos', 'cantidad': 3, 'precio': 20},\n",
       "   {'nombre': 'zapatos', 'cantidad': 3, 'precio': 20}]},\n",
       " 'almu': {'email': 'almu@gmail.com',\n",
       "  'compras': [{'nombre': 'zapatos', 'cantidad': 3, 'precio': 20},\n",
       "   {'nombre': 'zapatos', 'cantidad': 3, 'precio': 20},\n",
       "   {'nombre': 'zapatos', 'cantidad': 3, 'precio': 20},\n",
       "   {'nombre': 'zapatos', 'cantidad': 3, 'precio': 20},\n",
       "   {'nombre': 'zapatos', 'cantidad': 3, 'precio': 20},\n",
       "   {'nombre': 'zapatos', 'cantidad': 3, 'precio': 20},\n",
       "   {'nombre': 'Camisa', 'cantidad': 1, 'precio': 20},\n",
       "   {'nombre': 'zapatos', 'cantidad': 3, 'precio': 20},\n",
       "   {'nombre': 'Camisa', 'cantidad': 1, 'precio': 20},\n",
       "   {'nombre': 'zapatos', 'cantidad': 3, 'precio': 20},\n",
       "   {'nombre': 'Camisa', 'cantidad': 1, 'precio': 20},\n",
       "   {'nombre': 'zapatos', 'cantidad': 3, 'precio': 20}]}}"
      ]
     },
     "execution_count": 129,
     "metadata": {},
     "output_type": "execute_result"
    }
   ],
   "source": [
    "carrito_cliente1 = {\"Camisa\": {\"precio\": 20, \"cantidad\": 1}, \"zapatos\": {\"precio\": 20, \"cantidad\": 3}}\n",
    "registrar_compra(\"almu\", carrito_cliente1)\n",
    "inventario\n",
    "clientes"
   ]
  },
  {
   "cell_type": "code",
   "execution_count": 130,
   "metadata": {},
   "outputs": [
    {
     "data": {
      "text/plain": [
       "[{'nombre': 'zapatos', 'precio': 45, 'cantidad': 440},\n",
       " {'nombre': 'camisa', 'precio': 25, 'cantidad': 324}]"
      ]
     },
     "execution_count": 130,
     "metadata": {},
     "output_type": "execute_result"
    }
   ],
   "source": [
    "inventario\n"
   ]
  }
 ],
 "metadata": {
  "kernelspec": {
   "display_name": "base",
   "language": "python",
   "name": "python3"
  },
  "language_info": {
   "codemirror_mode": {
    "name": "ipython",
    "version": 3
   },
   "file_extension": ".py",
   "mimetype": "text/x-python",
   "name": "python",
   "nbconvert_exporter": "python",
   "pygments_lexer": "ipython3",
   "version": "3.12.7"
  }
 },
 "nbformat": 4,
 "nbformat_minor": 2
}
