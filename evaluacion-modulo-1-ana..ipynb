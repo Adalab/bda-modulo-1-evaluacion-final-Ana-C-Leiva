{
 "cells": [
  {
   "cell_type": "markdown",
   "metadata": {},
   "source": [
    "# Evaluación Módulo 1"
   ]
  },
  {
   "cell_type": "markdown",
   "metadata": {},
   "source": [
    "### Tres estructuras principales\n",
    "\n",
    "1) `inventario` (lista de diccionarios): Una estructura para almacenar los\n",
    "productos en el inventario. Cada producto debe ser representado como un\n",
    "diccionario con las siguientes claves: `'nombre'`, `'precio'`, y\n",
    "`'cantidad'`. Al principio deberá ser una lista vacía. Ejemplo de como\n",
    "debería ser:\n",
    "```python\n",
    "[{'nombre': 'Camisa', 'precio': 20, 'cantidad': 40},\n",
    "{'nombre': 'Pantalón', 'precio': 30, 'cantidad': 30}]\n",
    "```\n",
    "\n",
    "2) `clientes` (diccionario): Una estructura para llevar un registro de los\n",
    "clientes de la tienda. Cada cliente debe ser representado como un\n",
    "diccionario con las siguientes claves: `'nombre'` y `'email'`. Al inicio\n",
    "deberá ser un diccionario vacío. Además, cada cliente debe tener un\n",
    "historial de compras. Deberá parecerse a:\n",
    "```python\n",
    "{'Cliente1': {'email': 'cliente1@email.com', 'compras': []},\n",
    "'Cliente2': {'email': 'cliente2@email.com', 'compras': []}}\n",
    "```\n",
    "--> entonces será un duccionario de diccionarios con una lista asociada a la clave compras. \n",
    "\n",
    "3. `ventas_totales` (float): Una variable para llevar un registro de las\n",
    "ventas totales de la tienda. Inicializalo con valor 0."
   ]
  },
  {
   "cell_type": "code",
   "execution_count": 41,
   "metadata": {},
   "outputs": [],
   "source": [
    "# Creo las tres estructuras principales\n",
    "inventario = []\n",
    "clientes = {}\n",
    "ventas_totales = 0.0"
   ]
  },
  {
   "cell_type": "markdown",
   "metadata": {},
   "source": [
    "## (1) Función agregar producto"
   ]
  },
  {
   "cell_type": "code",
   "execution_count": null,
   "metadata": {},
   "outputs": [],
   "source": [
    "# `agregar_producto(nombre, precio, cantidad)`: Esta función agrega un\n",
    "# producto al inventario o actualiza su cantidad si ya existe. Debe recibir el\n",
    "# nombre, precio y cantidad del producto como parámetros.\n",
    "\n",
    "# Entiendo que ninguno de los parámatros puede tener defeault o puede faltar. \n",
    "\n",
    "# - Itera a través del inventario y compara los nombres de los productos con el nombre proporcionado. --> (está pidiendo que use un for, pero no me salió! copilot sugirió crear variable booleana)\n",
    "# - Si el producto ya existe, actualiza la cantidad. --> if ya existe actualizar información (entiendo que actualizar cantidad es sumarla a la ya existente)\n",
    "# - Si no existe, agrega un nuevo producto al inventario. --> if no existe agregar el producto con toda la información"
   ]
  },
  {
   "cell_type": "code",
   "execution_count": null,
   "metadata": {},
   "outputs": [],
   "source": [
    "def agregar_producto(nombre, precio, cantidad):\n",
    "  producto_actualizado = False\n",
    "  for producto in inventario:\n",
    "    if producto['nombre'] == nombre:\n",
    "      producto['precio'] = precio\n",
    "      producto['cantidad'] += cantidad\n",
    "      print(f'La información del producto {nombre} fue actualizada')\n",
    "      producto_actualizado = True\n",
    "      break\n",
    "\n",
    "  if not producto_actualizado:\n",
    "      nuevo_producto = {\n",
    "        'nombre': nombre,\n",
    "        'precio': precio,\n",
    "        'cantidad': cantidad\n",
    "        }\n",
    "      inventario.append(nuevo_producto)\n",
    "      print( f'El producto {nombre} fue agregado a la lista')\n",
    "  else:\n",
    "      return f'Ha ocurrido un error al intentar agregar el producto {nombre}. Intente nuevamente'"
   ]
  },
  {
   "cell_type": "code",
   "execution_count": 56,
   "metadata": {},
   "outputs": [
    {
     "name": "stdout",
     "output_type": "stream",
     "text": [
      "La información del producto pantalton fue actualizada\n"
     ]
    },
    {
     "data": {
      "text/plain": [
       "[{'nombre': 'camisa', 'precio': 20, 'cantidad': 600},\n",
       " {'nombre': 'pantalton', 'precio': 30, 'cantidad': 400}]"
      ]
     },
     "execution_count": 56,
     "metadata": {},
     "output_type": "execute_result"
    }
   ],
   "source": [
    "# Prueba\n",
    "agregar_producto('pantalton', 30, 200)\n",
    "inventario"
   ]
  },
  {
   "cell_type": "markdown",
   "metadata": {},
   "source": [
    "## (2) Función ver inventario"
   ]
  },
  {
   "cell_type": "code",
   "execution_count": null,
   "metadata": {},
   "outputs": [],
   "source": [
    "# `ver_inventario()`: Muestra el inventario de productos con sus detalles.\n",
    "# Utiliza un bucle `for` para recorrer el inventario.\n",
    "\n",
    "# - Imprime los detalles (nombre, precio, cantidad) de cada producto.\n",
    "\n",
    "# - Debería verse:\n",
    "\n",
    "    # Nombre: Camisa, Precio: $20, Cantidad: 50\n",
    "    # Nombre: Pantalón, Precio: $30, Cantidad: 30\n",
    "    # Nombre: Zapatos, Precio: $50, Cantidad: 40\n",
    "    # Nombre: Camisa, Precio: $20, Cantidad: 50"
   ]
  },
  {
   "cell_type": "code",
   "execution_count": 65,
   "metadata": {},
   "outputs": [],
   "source": [
    "def ver_inventario():\n",
    "    for producto in inventario:\n",
    "        nombre = producto['nombre']\n",
    "        precio = producto['precio']\n",
    "        cantidad = producto['cantidad']\n",
    "        print(f'Nombre: {nombre}, Precio: ${precio}, Cantidad: {cantidad}')\n",
    "    return"
   ]
  },
  {
   "cell_type": "code",
   "execution_count": 66,
   "metadata": {},
   "outputs": [
    {
     "name": "stdout",
     "output_type": "stream",
     "text": [
      "Nombre: camisa, Precio: $20, Cantidad: 600\n",
      "Nombre: pantalton, Precio: $30, Cantidad: 400\n"
     ]
    }
   ],
   "source": [
    "# prueba\n",
    "ver_inventario()"
   ]
  },
  {
   "cell_type": "markdown",
   "metadata": {},
   "source": [
    "## (3) Función buscar producto"
   ]
  },
  {
   "cell_type": "code",
   "execution_count": null,
   "metadata": {},
   "outputs": [],
   "source": [
    "# `buscar_producto(nombre)`: Busca un producto en el inventario por nombre\n",
    "# y muestra sus detalles si se encuentra. Debe recibir el nombre del producto\n",
    "# como parámetro.\n",
    "\n",
    "    # - Utiliza un bucle `for` para recorrer el inventario.\n",
    "    #- Compara los nombres de los productos con el nombre proporcionado.\n",
    "    #- Si se encuentra el producto, imprime sus detalles.\n",
    "    #- Debe mostrar:\n",
    "        #Nombre: Camisa, Precio: $20, Cantidad: 40"
   ]
  },
  {
   "cell_type": "code",
   "execution_count": 99,
   "metadata": {},
   "outputs": [],
   "source": [
    "def buscar_producto(nombre):\n",
    "    for producto in inventario:\n",
    "        if producto['nombre'] == nombre.lower():\n",
    "            precio = producto['precio']\n",
    "            cantidad = producto['cantidad']\n",
    "            print(f'Nombre: {nombre.lower()}, Precio: ${precio}, Cantidad: {cantidad}')\n",
    "            break\n",
    "        else:\n",
    "            return f'El producto {nombre} no fue encontrado'\n"
   ]
  },
  {
   "cell_type": "code",
   "execution_count": 100,
   "metadata": {},
   "outputs": [
    {
     "name": "stdout",
     "output_type": "stream",
     "text": [
      "Nombre: camisa, Precio: $20, Cantidad: 600\n"
     ]
    }
   ],
   "source": [
    "buscar_producto('Camisa')"
   ]
  },
  {
   "cell_type": "markdown",
   "metadata": {},
   "source": [
    "## (4) Función actualizar stock"
   ]
  },
  {
   "cell_type": "code",
   "execution_count": null,
   "metadata": {},
   "outputs": [],
   "source": [
    "# `actualizar_stock(nombre, cantidad)`: Actualiza el stock de un producto\n",
    "# en el inventario. Debe recibir el nombre del producto y la cantidad a\n",
    "# agregar o quitar como parámetros.\n",
    "    # - Utiliza un bucle `for` para recorrer el inventario.\n",
    "    # - Busca el producto por nombre.\n",
    "    # - Actualiza la cantidad según la entrada del usuario.\n",
    "    # - Si el producto no esta en el inventario muestra un mensaje indicándolo."
   ]
  },
  {
   "cell_type": "code",
   "execution_count": 124,
   "metadata": {},
   "outputs": [],
   "source": [
    "def actualizar_stock(nombre, cantidad):\n",
    "    for producto in inventario:\n",
    "        if producto['nombre'].lower() == nombre.lower():\n",
    "            producto['cantidad'] = cantidad\n",
    "            print(f'El producto {nombre.lower()} se ha actualizado')\n",
    "            break\n",
    "        else:\n",
    "            print(f'El producto {nombre.lower()} no se encuentra en el inventario. Si desea agregar un nuevo producto dirijase a la función agregar_producto')\n",
    "            return \n"
   ]
  },
  {
   "cell_type": "code",
   "execution_count": 126,
   "metadata": {},
   "outputs": [
    {
     "name": "stdout",
     "output_type": "stream",
     "text": [
      "El producto camisas no se encuentra en el inventario. Si desea agregar un nuevo producto dirijase a la función agregar_producto\n"
     ]
    },
    {
     "data": {
      "text/plain": [
       "[{'nombre': 'camisa', 'precio': 20, 'cantidad': 570},\n",
       " {'nombre': 'pantalton', 'precio': 30, 'cantidad': 400}]"
      ]
     },
     "execution_count": 126,
     "metadata": {},
     "output_type": "execute_result"
    }
   ],
   "source": [
    "# Prueba\n",
    "actualizar_stock('CAmisas', 570)\n",
    "inventario"
   ]
  },
  {
   "cell_type": "markdown",
   "metadata": {},
   "source": [
    "## (5) Función eliminar producto"
   ]
  },
  {
   "cell_type": "code",
   "execution_count": null,
   "metadata": {},
   "outputs": [],
   "source": [
    "# `eliminar_producto(nombre)`: Elimina un producto del inventario por nombre. Debe recibir el nombre del producto como parámetro.\n",
    "\n",
    "    # - Utiliza un bucle `for` para recorrer el inventario.\n",
    "    # - Busca el producto por nombre.\n",
    "    # - Elimina el producto del inventario si existe.\n",
    "    # - Si el producto no esta en el inventario muestra un mensaje indicándolo."
   ]
  }
 ],
 "metadata": {
  "kernelspec": {
   "display_name": "base",
   "language": "python",
   "name": "python3"
  },
  "language_info": {
   "codemirror_mode": {
    "name": "ipython",
    "version": 3
   },
   "file_extension": ".py",
   "mimetype": "text/x-python",
   "name": "python",
   "nbconvert_exporter": "python",
   "pygments_lexer": "ipython3",
   "version": "3.12.7"
  }
 },
 "nbformat": 4,
 "nbformat_minor": 2
}
